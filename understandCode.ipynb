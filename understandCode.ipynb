{
 "cells": [
  {
   "cell_type": "code",
   "execution_count": 6,
   "metadata": {},
   "outputs": [],
   "source": [
    "import turtle\n",
    "def draw_circle(radius, line_color='black', fill_color=None, line_thickness=1, position=(0, 0)):\n",
    "    turtle.penup()\n",
    "    turtle.goto(position)\n",
    "    turtle.pendown()\n",
    "    turtle.color(line_color)\n",
    "    turtle.pensize(line_thickness)\n",
    "    if fill_color:\n",
    "        turtle.fillcolor(fill_color)\n",
    "        turtle.begin_fill()\n",
    "    turtle.circle(radius)\n",
    "    if fill_color:\n",
    "        turtle.end_fill()\n",
    "# Main program\n",
    "if __name__ == \"__main__\":\n",
    "    # Setup turtle speed (1 to 10)\n",
    "    turtle.speed(1)\n",
    "    # Get the circle parameters from the user\n",
    "    radius = int(input(\"Enter the radius of the circle (default is 50): \") or 50)\n",
    "    line_color = input(\"Enter the line color (default is black): \") or 'black'\n",
    "    fill_color = input(\"Enter the fill color (leave blank for no fill): \") or None\n",
    "    line_thickness = int(input(\"Enter the line thickness (default is 1): \") or 1)\n",
    "    x = int(input(\"Enter the x-coordinate of the circle's position: \")or 0) \n",
    "    y = int(input(\"Enter the y-coordinate of the circle's position): \")or 0) \n",
    "    # Set the circle's position\n",
    "    position = (x, y)\n",
    "    # Draw the circle\n",
    "    draw_circle(radius, line_color, fill_color, line_thickness, position)\n",
    "    # Keep the window open until it's closed manually\n",
    "    turtle.done()"
   ]
  },
  {
   "cell_type": "code",
   "execution_count": 7,
   "metadata": {},
   "outputs": [
    {
     "name": "stdout",
     "output_type": "stream",
     "text": [
      "Alicia (100), Antonio (96), Isabella (95), Emma (94), Oliver (94), Ethan (93), Grace (93), Amelia (92), Sophia (89), Abigail (88), James (87), Evelyn (83), William (81), Alexander (80), Harper (78), Michael (77), Noah (76), Ava (71), Emily (70), Sofia (68), Olivia (67), Samuel (64), Mia (62), Elizabeth (60), Charlotte (58), Lucas (51), Matthew (49), Benjamin (42), David (39), Henry (34)\n"
     ]
    }
   ],
   "source": [
    "scores_names = [\n",
    "    \"Ethan (93)\", \"Olivia (67)\", \"Benjamin (42)\", \"Emma (94)\", \"Noah (76)\",\n",
    "    \"Sophia (89)\", \"Lucas (51)\", \"Mia (62)\", \"Alexander (80)\", \"Isabella (95)\",\n",
    "    \"Henry (34)\", \"Ava (71)\", \"James (87)\", \"Charlotte (58)\", \"Antonio (96)\",\n",
    "    \"Harper (78)\", \"Matthew (49)\", \"Amelia (92)\", \"Samuel (64)\", \"Evelyn (83)\",\n",
    "    \"Alicia (100)\", \"Abigail (88)\", \"David (39)\", \"Emily (70)\", \"Oliver (94)\",\n",
    "    \"Elizabeth (60)\", \"William (81)\", \"Sofia (68)\", \"Michael (77)\", \"Grace (93)\"\n",
    "]\n",
    "# Sort the scores and names in descending order\n",
    "sorted_scores_names = sorted(scores_names, key=lambda x: int(x.split(\" \")[-1][1:-1]), reverse=True)\n",
    "# Format the scores and names as \"Name (score)\" pairs\n",
    "formatted_scores_names = [f\"{item.split(' ')[0]} ({item.split(' ')[-1][1:-1]})\" for item in sorted_scores_names]\n",
    "print(*formatted_scores_names, sep = \", \") "
   ]
  },
  {
   "cell_type": "markdown",
   "metadata": {},
   "source": []
  },
  {
   "cell_type": "code",
   "execution_count": null,
   "metadata": {},
   "outputs": [],
   "source": []
  }
 ],
 "metadata": {
  "kernelspec": {
   "display_name": "base",
   "language": "python",
   "name": "python3"
  },
  "language_info": {
   "codemirror_mode": {
    "name": "ipython",
    "version": 3
   },
   "file_extension": ".py",
   "mimetype": "text/x-python",
   "name": "python",
   "nbconvert_exporter": "python",
   "pygments_lexer": "ipython3",
   "version": "3.11.7"
  }
 },
 "nbformat": 4,
 "nbformat_minor": 2
}
